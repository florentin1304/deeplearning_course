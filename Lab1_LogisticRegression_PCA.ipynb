{
 "cells": [
  {
   "cell_type": "code",
   "execution_count": 1,
   "id": "35ce03ca",
   "metadata": {},
   "outputs": [],
   "source": [
    "import sklearn\n",
    "import numpy as np\n",
    "from sklearn.datasets import load_digits\n",
    "import matplotlib.pyplot as plt\n",
    "from sklearn.preprocessing import StandardScaler\n",
    "from sklearn.linear_model import LogisticRegression\n",
    "from sklearn.decomposition import PCA\n",
    "from sklearn.metrics import accuracy_score\n",
    "\n",
    "import warnings\n",
    "warnings.filterwarnings(\"ignore\")"
   ]
  },
  {
   "cell_type": "markdown",
   "id": "94091a08",
   "metadata": {},
   "source": [
    "# Exercise 1: Digits"
   ]
  },
  {
   "cell_type": "code",
   "execution_count": 2,
   "id": "d1837dfe",
   "metadata": {},
   "outputs": [],
   "source": [
    "X, y = load_digits(return_X_y=True)"
   ]
  },
  {
   "cell_type": "code",
   "execution_count": 3,
   "id": "805521a3",
   "metadata": {},
   "outputs": [
    {
     "data": {
      "text/plain": [
       "<matplotlib.image.AxesImage at 0x2264da8d7e0>"
      ]
     },
     "execution_count": 3,
     "metadata": {},
     "output_type": "execute_result"
    },
    {
     "data": {
      "image/png": "[encoded data removed]",
      "text/plain": [
       "<Figure size 640x480 with 1 Axes>"
      ]
     },
     "metadata": {},
     "output_type": "display_data"
    }
   ],
   "source": [
    "nmb = X[9].reshape(8,8)\n",
    "plt.imshow(nmb)"
   ]
  },
  {
   "cell_type": "markdown",
   "id": "85888fd1",
   "metadata": {},
   "source": [
    "### Preprocessing"
   ]
  },
  {
   "cell_type": "code",
   "execution_count": 4,
   "id": "6f573168",
   "metadata": {},
   "outputs": [],
   "source": [
    "X_train = X[:-200]\n",
    "X_test = X[-200:]\n",
    "y_train = y[:-200]\n",
    "y_test = y[-200:]"
   ]
  },
  {
   "cell_type": "code",
   "execution_count": 5,
   "id": "00e53e0c",
   "metadata": {},
   "outputs": [
    {
     "name": "stdout",
     "output_type": "stream",
     "text": [
      "The scaler has to be fitted only once, it is wrong to fit it on test, then transform!\n"
     ]
    }
   ],
   "source": [
    "print(\"The scaler has to be fitted only once, it is wrong to fit it on test, then transform!\")\n",
    "myScaler = StandardScaler()\n",
    "myScaler.fit(X_train)\n",
    "X_train = myScaler.transform(X_train)\n",
    "X_test = myScaler.transform(X_test)"
   ]
  },
  {
   "cell_type": "markdown",
   "id": "83af597d",
   "metadata": {},
   "source": [
    "### Model Train"
   ]
  },
  {
   "cell_type": "code",
   "execution_count": 6,
   "id": "50489dc7",
   "metadata": {},
   "outputs": [
    {
     "name": "stdout",
     "output_type": "stream",
     "text": [
      "[0 1 2 3 4 5 6 7 8 9]\n",
      "Number of labels:  10\n",
      "Logistic regression can still be used in a repeated ONE VS ALL manner\n"
     ]
    }
   ],
   "source": [
    "print(np.unique(y))\n",
    "print(\"Number of labels: \", len(np.unique(y)))\n",
    "print(\"Logistic regression can still be used in a repeated ONE VS ALL manner\")"
   ]
  },
  {
   "cell_type": "code",
   "execution_count": 7,
   "id": "d64228b2",
   "metadata": {},
   "outputs": [
    {
     "name": "stdout",
     "output_type": "stream",
     "text": [
      "Accuracy Score = 0.92\n"
     ]
    }
   ],
   "source": [
    "lm = LogisticRegression(solver=\"lbfgs\")\n",
    "lm.fit(X_train, y_train)\n",
    "y_pred = lm.predict(X_test)\n",
    "print(f\"Accuracy Score = {accuracy_score(y_test, y_pred)}\")"
   ]
  },
  {
   "cell_type": "markdown",
   "id": "a4fffb70",
   "metadata": {},
   "source": [
    "### Add PCA feature selection"
   ]
  },
  {
   "cell_type": "code",
   "execution_count": 11,
   "id": "083b42e4",
   "metadata": {},
   "outputs": [
    {
     "name": "stdout",
     "output_type": "stream",
     "text": [
      ".95 of the variance is kept\n",
      "More general kind of input -> will automatically understand how many features keep the variance wanted\n",
      "X_train.shape from (_ ,64) to  (1597, 32)\n"
     ]
    }
   ],
   "source": [
    "myPCA = PCA(.95)\n",
    "myPCA.fit(X_train)\n",
    "X_train = myPCA.transform(X_train)\n",
    "X_test = myPCA.transform(X_test)\n",
    "\n",
    "print(\".95 of the variance is kept\")\n",
    "print(\"More general kind of input -> will automatically understand how many features keep the variance wanted\")"
   ]
  },
  {
   "cell_type": "code",
   "execution_count": 9,
   "id": "8f166535",
   "metadata": {},
   "outputs": [
    {
     "name": "stdout",
     "output_type": "stream",
     "text": [
      "Accuracy Score = 0.91\n",
      "Of course less information (=less features) will drop the accuracy, but we see that is not that substantial\n"
     ]
    }
   ],
   "source": [
    "lm = LogisticRegression(solver=\"lbfgs\")\n",
    "lm.fit(X_train, y_train)\n",
    "y_pred = lm.predict(X_test)\n",
    "print(f\"Accuracy Score = {accuracy_score(y_test, y_pred)}\")\n",
    "print(\"Of course less information (=less features) will drop the accuracy, but we see that is not that substantial\")"
   ]
  },
  {
   "cell_type": "code",
   "execution_count": 10,
   "id": "55ca958f",
   "metadata": {},
   "outputs": [
    {
     "name": "stdout",
     "output_type": "stream",
     "text": [
      "Number of features: 40 vs 64 from the initial dataset\n",
      "PCA kept only the most important features, by eliminating the ones that less characterized the outputs\n"
     ]
    }
   ],
   "source": [
    "print(\"Number of features:\", len(X_train[0]), \"vs 64 from the initial dataset\")\n",
    "print(\"PCA kept only the most important features, by eliminating the ones that less characterized the outputs\")"
   ]
  },
  {
   "cell_type": "markdown",
   "id": "03e0ecac",
   "metadata": {},
   "source": [
    "# Exercise 2: Fashion MNIST"
   ]
  },
  {
   "cell_type": "code",
   "execution_count": 16,
   "id": "12c9a33b",
   "metadata": {},
   "outputs": [
    {
     "name": "stdout",
     "output_type": "stream",
     "text": [
      "[ 1.87391050e+02+0.00000000e+00j  1.48958643e+02+0.00000000e+00j\n",
      "  1.29703694e+02+0.00000000e+00j ... -1.08156427e-16-8.45691193e-18j\n",
      "  8.21336201e-17+2.15217636e-17j  8.21336201e-17-2.15217636e-17j]\n",
      "[63 62 66 ...  2  1  0]\n"
     ]
    }
   ],
   "source": [
    "class myPCA:\n",
    "    \n",
    "    def fit(data):\n",
    "        cov_matrix = np.cov(data)\n",
    "        e_val, e_vec = np.linalg.eig(cov_matrix)\n",
    "            \n",
    "X, y = load_digits(return_X_y=True)\n",
    "X_train = X[:-200]\n",
    "X_test = X[-200:]\n",
    "myScaler = StandardScaler()\n",
    "myScaler.fit(X_train)\n",
    "X_train = myScaler.transform(X_train)\n",
    "\n",
    "myPCA(X_train)"
   ]
  },
  {
   "cell_type": "code",
   "execution_count": null,
   "id": "55ab5296",
   "metadata": {},
   "outputs": [],
   "source": []
  }
 ],
 "metadata": {
  "kernelspec": {
   "display_name": "Python 3 (ipykernel)",
   "language": "python",
   "name": "python3"
  },
  "language_info": {
   "codemirror_mode": {
    "name": "ipython",
    "version": 3
   },
   "file_extension": ".py",
   "mimetype": "text/x-python",
   "name": "python",
   "nbconvert_exporter": "python",
   "pygments_lexer": "ipython3",
   "version": "3.10.4"
  }
 },
 "nbformat": 4,
 "nbformat_minor": 5
}
